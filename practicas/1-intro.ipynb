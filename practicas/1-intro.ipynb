{
 "cells": [
  {
   "cell_type": "markdown",
   "id": "12e46d63",
   "metadata": {},
   "source": [
    "# Introducción a Python numérico"
   ]
  },
  {
   "cell_type": "markdown",
   "id": "49d40618",
   "metadata": {},
   "source": [
    "## 1. Datos y variables"
   ]
  },
  {
   "cell_type": "markdown",
   "id": "5f60c3c8",
   "metadata": {},
   "source": [
    "### Variables numéricas"
   ]
  },
  {
   "cell_type": "code",
   "execution_count": null,
   "id": "e396eabd",
   "metadata": {},
   "outputs": [],
   "source": [
    "n = 2\n",
    "x = 3.14\n",
    "print(n, type(n))\n",
    "print(x, type(x))"
   ]
  },
  {
   "cell_type": "code",
   "execution_count": null,
   "id": "ae9116e4",
   "metadata": {},
   "outputs": [],
   "source": [
    "# Existe una cantidad *finita* de números en coma flotante, mayor acumulación en cero\n",
    "x = 1.e-324  # = cero\n",
    "y = 1.e+309  # = infinito\n",
    "print(x, y)"
   ]
  },
  {
   "cell_type": "code",
   "execution_count": null,
   "id": "1d59c3a7",
   "metadata": {},
   "outputs": [],
   "source": [
    "# Épsilon de la máquina: eps tal que 1 == 1+eps (en coma flotante!)\n",
    "eps = 1.e-16\n",
    "1 == 1+eps"
   ]
  },
  {
   "cell_type": "code",
   "execution_count": null,
   "id": "13a18950",
   "metadata": {},
   "outputs": [],
   "source": [
    "# Cuidado con el redondeo\n",
    "0.1 + 0.2"
   ]
  },
  {
   "cell_type": "code",
   "execution_count": null,
   "id": "1e5223d9",
   "metadata": {},
   "outputs": [],
   "source": [
    "# Lección: no comparar directamente números en coma flotante...\n",
    "x = 0.1; y = 0.2\n",
    "x + y == 0.3"
   ]
  },
  {
   "cell_type": "code",
   "execution_count": null,
   "id": "25d287cd",
   "metadata": {},
   "outputs": [],
   "source": [
    "#... es mejor comprobar que la diferencia es pequeña (ejemplo, menor que el eps de la máquina)\n",
    "#                    (Nota: cuando veamos numpy, será útil la función numpy.isclose(a, b))\n",
    "suma = x + y\n",
    "abs(suma - 0.3) < 1.e-16"
   ]
  },
  {
   "cell_type": "code",
   "execution_count": null,
   "id": "b3accc76",
   "metadata": {},
   "outputs": [],
   "source": [
    "# Operaciones básicas: +, -, *, /, //, %, ** (cuidado, no usar ^  !!)\n",
    "print(5*3/2)\n",
    "print(5*3//2)   # Cociente de la división entera\n",
    "print(5*3 % 2)  # Módulo o resto de la división entera\n",
    "2**5  # 2 elevado a 5 (!!)"
   ]
  },
  {
   "cell_type": "markdown",
   "id": "6ada383d",
   "metadata": {},
   "source": [
    "### Listas \n",
    "Objetos que almacenan valores *de cualquier tipo*, de forma ordenada"
   ]
  },
  {
   "cell_type": "code",
   "execution_count": null,
   "id": "7a6dda5f",
   "metadata": {},
   "outputs": [],
   "source": [
    "lista1 = [1, 2.71, -5]\n",
    "lista2 = [2, 'a', 'b']\n",
    "lista3 = [1, [2, '3'], 4.9]\n",
    "print(lista1, lista2, lista3)"
   ]
  },
  {
   "cell_type": "code",
   "execution_count": null,
   "id": "c17fca6d",
   "metadata": {},
   "outputs": [],
   "source": [
    "# Los operadores sobre listas no son lo que parecen\n",
    "print(lista1 + lista2) # Concatenación\n",
    "print(3*lista1) # Repetición\n",
    "# lista1/2  # Error: el opeador / no es válido para listas!!!"
   ]
  },
  {
   "cell_type": "code",
   "execution_count": null,
   "id": "4557ea3b",
   "metadata": {},
   "outputs": [],
   "source": [
    "# Acceso a los elementos de una lista: 0 -> primero, 1 -> segundo... y -1 -> último!\n",
    "print(lista1[0], lista1[1], lista1[-1])\n",
    "print(lista3[1][-1])"
   ]
  },
  {
   "cell_type": "code",
   "execution_count": null,
   "id": "ac66ea32",
   "metadata": {},
   "outputs": [],
   "source": [
    "# Tamaño (\"length\") de una lista\n",
    "len(lista3)"
   ]
  },
  {
   "cell_type": "code",
   "execution_count": null,
   "id": "f4946a9c",
   "metadata": {},
   "outputs": [],
   "source": [
    "# En las listas es natural la operación \"añadir un elemento al final\" (append):\n",
    "lista1.append(51/2)\n",
    "lista1"
   ]
  },
  {
   "cell_type": "markdown",
   "id": "9996bc97",
   "metadata": {},
   "source": [
    "### Cadenas de caracteres"
   ]
  },
  {
   "cell_type": "code",
   "execution_count": null,
   "id": "e18d0117",
   "metadata": {},
   "outputs": [],
   "source": [
    "### Las cadenas de caracacteres son similares a las listas:\n",
    "hola = \"Hola, mundo!\"\n",
    "hola"
   ]
  },
  {
   "cell_type": "code",
   "execution_count": null,
   "id": "2ff12222",
   "metadata": {},
   "outputs": [],
   "source": [
    "hola[0], len(hola)"
   ]
  },
  {
   "cell_type": "code",
   "execution_count": null,
   "id": "f503d49f",
   "metadata": {},
   "outputs": [],
   "source": [
    "# Pero son objetos \"de sólo lectura\" (este tipo de listas se llaman 'tuplas')\n",
    "# hola[0] = 'h'  # Error\n",
    "# hola.append(\"X\")  # Otro error"
   ]
  },
  {
   "cell_type": "code",
   "execution_count": null,
   "id": "9ea7d836",
   "metadata": {},
   "outputs": [],
   "source": [
    "# Y tienen funciones específicas (se llaman métodos, notación objeto.método())\n",
    "hola.upper()"
   ]
  },
  {
   "cell_type": "markdown",
   "id": "8a205678",
   "metadata": {},
   "source": [
    "### Asignación. Cuidado: las variables son punteros a objetos!!!\n",
    "        * Veremos soluciones, por ejemplo lista2 = lista[:] o lista2 = copy.copy(lista) "
   ]
  },
  {
   "cell_type": "code",
   "execution_count": null,
   "id": "2fd1fb5a",
   "metadata": {},
   "outputs": [],
   "source": [
    "print(lista2)\n",
    "mi_lista = lista2\n",
    "mi_lista[-1] = 'X'\n",
    "print(mi_lista)\n",
    "print(lista2)"
   ]
  },
  {
   "cell_type": "markdown",
   "id": "451f4b9f",
   "metadata": {},
   "source": [
    "### Tipos de datos lógicos (*booleanos*)"
   ]
  },
  {
   "cell_type": "code",
   "execution_count": null,
   "id": "3d6249bb",
   "metadata": {},
   "outputs": [],
   "source": [
    "cond = (3>5)\n",
    "cond"
   ]
  },
  {
   "cell_type": "code",
   "execution_count": null,
   "id": "6c5efccd",
   "metadata": {},
   "outputs": [],
   "source": [
    "1<2 or 3>5"
   ]
  },
  {
   "cell_type": "code",
   "execution_count": null,
   "id": "65097472",
   "metadata": {},
   "outputs": [],
   "source": [
    "1+3*2 < 8 and True"
   ]
  },
  {
   "cell_type": "markdown",
   "id": "bf2d4f07",
   "metadata": {},
   "source": [
    "## 2. Sentencias condicionales, bucles y funciones"
   ]
  },
  {
   "cell_type": "markdown",
   "id": "cb4ff755",
   "metadata": {},
   "source": [
    "### Condicionales: `if`"
   ]
  },
  {
   "cell_type": "markdown",
   "id": "8e5cd6ee",
   "metadata": {},
   "source": [
    "### Bucles: `while`, `for`"
   ]
  },
  {
   "cell_type": "markdown",
   "id": "bcb211de",
   "metadata": {},
   "source": [
    "### Funciones, funciones lambda"
   ]
  },
  {
   "cell_type": "markdown",
   "id": "a2466a0a",
   "metadata": {},
   "source": [
    "### Ejercicio:\n",
    "\n",
    "- Programar una función `punto_fijo(g, x0)`\n",
    "- Añadirle los parámetros `tol=1e-12, maxiter=100`\n",
    "- Aplicarla para calcular un punto fijo $𝑥=𝑔(𝑥)$ de la función \n",
    "$$g(x)=\\frac{1}{2+x}.$$  \n",
    "en el intervalo [0,1].\n",
    "\n",
    "**Solución** (detallada): ver las prácticas de la asignatura."
   ]
  },
  {
   "cell_type": "markdown",
   "id": "dcc306e6",
   "metadata": {},
   "source": [
    "### 3. *Arrays* (numpy) y gráficos (matplotlib)"
   ]
  },
  {
   "cell_type": "code",
   "execution_count": null,
   "id": "66509639",
   "metadata": {},
   "outputs": [],
   "source": []
  }
 ],
 "metadata": {
  "kernelspec": {
   "display_name": "Python 3 (ipykernel)",
   "language": "python",
   "name": "python3"
  },
  "language_info": {
   "codemirror_mode": {
    "name": "ipython",
    "version": 3
   },
   "file_extension": ".py",
   "mimetype": "text/x-python",
   "name": "python",
   "nbconvert_exporter": "python",
   "pygments_lexer": "ipython3",
   "version": "3.10.6"
  }
 },
 "nbformat": 4,
 "nbformat_minor": 5
}
