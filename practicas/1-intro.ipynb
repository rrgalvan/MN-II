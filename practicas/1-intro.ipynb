{
 "cells": [
  {
   "cell_type": "markdown",
   "id": "f1325d5d",
   "metadata": {},
   "source": [
    "# Introducción a Python numérico"
   ]
  },
  {
   "cell_type": "markdown",
   "id": "dc85caff",
   "metadata": {},
   "source": [
    "## 1. Python: datos y variables"
   ]
  },
  {
   "cell_type": "markdown",
   "id": "bf1c5b19",
   "metadata": {},
   "source": [
    "### Variables numéricas"
   ]
  },
  {
   "cell_type": "code",
   "execution_count": null,
   "id": "cf4fcb51",
   "metadata": {},
   "outputs": [],
   "source": [
    "n = 2\n",
    "x = 3.14\n",
    "print(n, type(n))\n",
    "print(x, type(x))"
   ]
  },
  {
   "cell_type": "code",
   "execution_count": null,
   "id": "00a7b7d8",
   "metadata": {},
   "outputs": [],
   "source": [
    "# Existe una cantidad finita de números en coma flotante\n",
    "x = 1.e-324  # = cero\n",
    "y = 1.e+309  # = infinito\n",
    "print(x, y)"
   ]
  },
  {
   "cell_type": "code",
   "execution_count": null,
   "id": "2731d501",
   "metadata": {},
   "outputs": [],
   "source": [
    "# Épsilon de la máquina: eps tal que 1 == 1+eps (en coma flotante!)\n",
    "eps = 1.e-16\n",
    "1 == 1+eps"
   ]
  },
  {
   "cell_type": "code",
   "execution_count": null,
   "id": "1b721acf",
   "metadata": {},
   "outputs": [],
   "source": [
    "# Cuidado con el redondeo\n",
    "0.1 + 0.2"
   ]
  },
  {
   "cell_type": "code",
   "execution_count": null,
   "id": "1fb3cc82",
   "metadata": {},
   "outputs": [],
   "source": [
    "# Lección: no comparar directamente números en coma flotante...\n",
    "x = 0.1; y = 0.2\n",
    "x + y == 0.3"
   ]
  },
  {
   "cell_type": "code",
   "execution_count": null,
   "id": "f2b94b77",
   "metadata": {},
   "outputs": [],
   "source": [
    "#... es mejor comprobar que la diferencia es pequeña (ejemplo, menor que el eps de la máquina)\n",
    "#                    (Nota: cuando veamos numpy, será útil la función numpy.isclose(a, b))\n",
    "suma = x + y\n",
    "abs(suma - 0.3) < 1.e-16"
   ]
  },
  {
   "cell_type": "code",
   "execution_count": null,
   "id": "39b671ae",
   "metadata": {},
   "outputs": [],
   "source": [
    "# Operaciones básicas: +, -, *, /, //, %, ** (cuidado, no ^!!)\n",
    "print(5*3/2)\n",
    "print(5*3//2)   # Cociente de la división entera\n",
    "print(5*3 % 2)  # Módulo o resto de la división entera\n",
    "2**5  # 2 elevado a 5 (!!)"
   ]
  },
  {
   "cell_type": "markdown",
   "id": "28424177",
   "metadata": {},
   "source": [
    "### Listas \n",
    "Objetos que almacenan valores *de cualquier tipo*, de forma ordenada"
   ]
  },
  {
   "cell_type": "code",
   "execution_count": null,
   "id": "1a278580",
   "metadata": {},
   "outputs": [],
   "source": [
    "lista1 = [1, 2.71, -5]\n",
    "lista2 = [2, 'a', 'b']\n",
    "lista3 = [1, [2, '3'], 4.9]\n",
    "print(lista1, lista2, lista3)"
   ]
  },
  {
   "cell_type": "code",
   "execution_count": null,
   "id": "260ef671",
   "metadata": {},
   "outputs": [],
   "source": [
    "# Los operadores sobre listas no son lo que parecen\n",
    "print(lista1 + lista2) # Concatenación\n",
    "print(3*lista1) # Repetición\n",
    "# lista1/2  # Error: el opeador / no es válido para listas!!!"
   ]
  },
  {
   "cell_type": "code",
   "execution_count": null,
   "id": "7383e3a6",
   "metadata": {},
   "outputs": [],
   "source": [
    "# Acceso a los elementos de una lista: 0 -> primero, 1 -> segundo... y -1 -> último!\n",
    "print(lista1[0], lista1[1], lista1[-1])\n",
    "print(lista3[1][-1])"
   ]
  },
  {
   "cell_type": "code",
   "execution_count": null,
   "id": "bb23edfd",
   "metadata": {},
   "outputs": [],
   "source": [
    "# Tamaño (\"length\") de una lista\n",
    "len(lista3)"
   ]
  },
  {
   "cell_type": "code",
   "execution_count": null,
   "id": "b6e8cb05",
   "metadata": {},
   "outputs": [],
   "source": [
    "# En las listas es natural la operación \"añadir un elemento al final\" (append):\n",
    "lista1.append(51/2)\n",
    "lista1"
   ]
  },
  {
   "cell_type": "markdown",
   "id": "d97c01f9",
   "metadata": {},
   "source": [
    "### Cadenas de caracteres"
   ]
  },
  {
   "cell_type": "code",
   "execution_count": null,
   "id": "bf05f1cb",
   "metadata": {},
   "outputs": [],
   "source": [
    "### Las cadenas de caracacteres son similares a las listas:\n",
    "hola = \"Hola, mundo!\"\n",
    "hola"
   ]
  },
  {
   "cell_type": "code",
   "execution_count": null,
   "id": "9d4af369",
   "metadata": {},
   "outputs": [],
   "source": [
    "hola[0], len(hola)"
   ]
  },
  {
   "cell_type": "code",
   "execution_count": null,
   "id": "0460d341",
   "metadata": {},
   "outputs": [],
   "source": [
    "# Pero son objetos \"de sólo lectura\" (este tipo de listas se llaman 'tuplas')\n",
    "# hola[0] = 'h'  # Error\n",
    "# hola.append(\"X\")  # Otro error"
   ]
  },
  {
   "cell_type": "code",
   "execution_count": null,
   "id": "5d3688b7",
   "metadata": {},
   "outputs": [],
   "source": [
    "# Y tienen funciones específicas (se llaman métodos, notación objeto.método())\n",
    "hola.upper()"
   ]
  },
  {
   "cell_type": "markdown",
   "id": "1f04fafb",
   "metadata": {},
   "source": [
    "### Asignación. Cuidado: las variables son punteros a objetos!!!\n",
    "        * Veremos soluciones, por ejemplo lista2 = lista[:] o lista2 = copy.copy(lista) "
   ]
  },
  {
   "cell_type": "code",
   "execution_count": null,
   "id": "e141ba1e",
   "metadata": {},
   "outputs": [],
   "source": [
    "print(lista2)\n",
    "mi_lista = lista2[:]\n",
    "mi_lista[-1] = 'X'\n",
    "print(mi_lista)\n",
    "print(lista2)"
   ]
  },
  {
   "cell_type": "markdown",
   "id": "2b1f4d15",
   "metadata": {},
   "source": [
    "### Tipos de datos lógicos (*booleanos*)"
   ]
  },
  {
   "cell_type": "code",
   "execution_count": null,
   "id": "b5739ab6",
   "metadata": {},
   "outputs": [],
   "source": [
    "cond = (3>5)\n",
    "cond"
   ]
  },
  {
   "cell_type": "code",
   "execution_count": null,
   "id": "c9af465a",
   "metadata": {},
   "outputs": [],
   "source": [
    "1<2 or 3>5"
   ]
  },
  {
   "cell_type": "code",
   "execution_count": null,
   "id": "19aa6cd1",
   "metadata": {},
   "outputs": [],
   "source": [
    "1+3*2 < 8 and True"
   ]
  },
  {
   "cell_type": "markdown",
   "id": "56624bec",
   "metadata": {},
   "source": [
    "## 2. Python: operadores lógicos, bucles y funciones"
   ]
  },
  {
   "cell_type": "code",
   "execution_count": null,
   "id": "c1cf56c7",
   "metadata": {},
   "outputs": [],
   "source": []
  }
 ],
 "metadata": {
  "kernelspec": {
   "display_name": "Python 3 (ipykernel)",
   "language": "python",
   "name": "python3"
  },
  "language_info": {
   "codemirror_mode": {
    "name": "ipython",
    "version": 3
   },
   "file_extension": ".py",
   "mimetype": "text/x-python",
   "name": "python",
   "nbconvert_exporter": "python",
   "pygments_lexer": "ipython3",
   "version": "3.10.6"
  }
 },
 "nbformat": 4,
 "nbformat_minor": 5
}
