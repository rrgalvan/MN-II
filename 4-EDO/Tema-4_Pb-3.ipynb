{
 "cells": [
  {
   "cell_type": "markdown",
   "id": "94a10c0d",
   "metadata": {},
   "source": [
    "# Problema 3 (tema 4)"
   ]
  },
  {
   "cell_type": "markdown",
   "id": "91ac2e9f",
   "metadata": {},
   "source": [
    "Consideremos el siguiente problema de valor inicial:\n",
    "\n",
    "\\begin{align*}\n",
    "      &y'= 1-y^2 \\quad x\\in[0,5],\\\\\n",
    "      &y(0)=0,\n",
    "\\end{align*}\n",
    "\n",
    "1) Aproximar la solución con $h=0.5$ usando, definir 4 funciones, `pasoEuler(f, tn, yn, h)`, `pasoHeunn(f, tn, yn, h)`, `pasoEC(f, tn, yn, h)` y `pasoRK(f, tn, yn, h)`, que aproximen la solución $y(t_{n+1})$ de la ecuación diferencial $y'=f(t,y)$ partir de un paso de tamaño $h$ desde la aproximación $yn \\simeq y(t_n)$ usando respectivamente:\n",
    "\n",
    "    a. El método de Euler.\n",
    " \n",
    "    b. El método de Heunn.\n",
    "    \n",
    "    c. El método de Euler-Cauchy.\n",
    "    \n",
    "    d. El método de Runge Kutta.\n",
    "\n",
    "2) Definir una función `metodoUnPaso(f, t, y0, funcionPaso)` que proxime el problema de valor inicial $y'=f(t,y)$, $y(t_0)=y0$ en los puntos equiespaciados $t_0$, $t_1$, ..., $t_N$ contenidos en el array `t`. El parámetro funcionPaso representará el método a utilizar y será una de las cuatro funciones definidas en el apartado anterior\n",
    "\n",
    "3) Sabiendo que la solución exacta es $$y(t) = \\frac{e^{2t}-1}{e^{2t}+1},$$\n",
    "calcular los errores de discretización (para cada úno de los métodos). Representarlos en una gráfica de barras\n"
   ]
  },
  {
   "cell_type": "code",
   "execution_count": 1,
   "id": "e6099fce",
   "metadata": {},
   "outputs": [
    {
     "name": "stdout",
     "output_type": "stream",
     "text": [
      "Populating the interactive namespace from numpy and matplotlib\n"
     ]
    }
   ],
   "source": [
    "%pylab inline\n",
    "\n",
    "f = lambda x,y: 1-y**2\n",
    "\n",
    "a, b = 0, 5\n",
    "y_a = 0\n",
    "h = 0.5\n",
    "\n",
    "y_exacta = lambda t: (e**(2*t)-1)/(e**(2*t)+1) # Otra forma de definir funciones "
   ]
  },
  {
   "cell_type": "code",
   "execution_count": 2,
   "id": "f966ec3c",
   "metadata": {},
   "outputs": [],
   "source": [
    "def runge_kutta(f, y_a, a, b, h):\n",
    "    \"\"\"\n",
    "    Resuelve el sistema de ecuaciones y'=f(t,y) en [a,b]\n",
    "    mediante el método de Runge-Kutta con paso h\n",
    "    \"\"\"\n",
    "    N = int( round( (b-a)/h) )\n",
    "    soporte = linspace(a, b, N+1)\n",
    "    sol = [y_a]\n",
    "    yn = y_a\n",
    "    for i in range(N): # i = 0, 1, ..., N-1\n",
    "        tn = soporte[i]\n",
    "        k1 = f(tn, yn)\n",
    "        k2 = f(tn+h/2, yn + h/2 * k1)\n",
    "        k3 = f(tn+h/2, yn + h/2 * k2)\n",
    "        k4 = f(tn+h, yn + h * k3)\n",
    "        yn = yn + h/6 * (k1 + 2*k2 + 2*k3 + k4)\n",
    "        sol.append(yn)\n",
    "    return soporte, sol"
   ]
  },
  {
   "cell_type": "code",
   "execution_count": 3,
   "id": "54afacc1",
   "metadata": {},
   "outputs": [],
   "source": [
    "soporte, sol_rk = runge_kutta(f, y_a, a, b, h)"
   ]
  },
  {
   "cell_type": "code",
   "execution_count": 4,
   "id": "bf2543c1",
   "metadata": {},
   "outputs": [],
   "source": [
    "def euler(f, y_a, a, b, h):\n",
    "    N = int( round( (b-a)/h) )\n",
    "    soporte = linspace(a, b, N+1)\n",
    "    sol = [y_a]\n",
    "    yn = y_a\n",
    "    for i in range(N): # i = 0, 1, ..., N-1\n",
    "        tn = soporte[i]\n",
    "        yn = yn + h*f(tn, yn)\n",
    "        sol.append(yn)\n",
    "    return soporte, sol\n",
    "soporte, sol_euler = euler(f, y_a, a, b, h)"
   ]
  },
  {
   "cell_type": "code",
   "execution_count": 5,
   "id": "542adb57",
   "metadata": {},
   "outputs": [],
   "source": [
    "def euler_cauchy(f, y_a, a, b, h):\n",
    "    N = int( round( (b-a)/h) )\n",
    "    soporte = linspace(a, b, N+1)\n",
    "    sol = [y_a]\n",
    "    yn = y_a\n",
    "    for i in range(N): # i = 0, 1, ..., N-1\n",
    "        tn = soporte[i]\n",
    "        k1 = yn + h/2*f(tn+h/2, yn)\n",
    "        yn = yn + h*f(tn, k1)\n",
    "        sol.append(yn)\n",
    "    return soporte, sol\n",
    "soporte, sol_ec = euler_cauchy(f, y_a, a, b, h)"
   ]
  },
  {
   "cell_type": "code",
   "execution_count": 6,
   "id": "67075839",
   "metadata": {},
   "outputs": [
    {
     "data": {
      "text/plain": [
       "<matplotlib.legend.Legend at 0x7f86bcd2acc0>"
      ]
     },
     "execution_count": 6,
     "metadata": {},
     "output_type": "execute_result"
    },
    {
     "data": {
      "image/png": "[encoded data removed]",
      "text/plain": [
       "<matplotlib.figure.Figure at 0x7f86bedb44a8>"
      ]
     },
     "metadata": {},
     "output_type": "display_data"
    }
   ],
   "source": [
    "# Solución exacta\n",
    "x_fino = linspace(a, b, 200)\n",
    "plot(x_fino, y_exacta(x_fino))\n",
    "\n",
    "# Runge-Kutta\n",
    "plot(soporte, sol_rk, 'o', c='red', label='Runge-Kutta')\n",
    "\n",
    "# Euler-Cauchy\n",
    "plot(soporte, sol_ec, 'o', c='gold', label='Euler-Cauchy')\n",
    "\n",
    "# Euler\n",
    "plot(soporte, sol_euler, 'o', c='green', label='Euler')\n",
    "\n",
    "ylim(-0.1, 1.1) # Intervalo para eje Y\n",
    "xlim(-0.2,5.5)\n",
    "axhline(c='black')\n",
    "axvline(c='black')\n",
    "grid()\n",
    "legend(loc='best')"
   ]
  },
  {
   "cell_type": "markdown",
   "id": "c464356c",
   "metadata": {},
   "source": [
    "### Errores en norma infinito"
   ]
  },
  {
   "cell_type": "code",
   "execution_count": 7,
   "id": "d787d237",
   "metadata": {},
   "outputs": [
    {
     "name": "stdout",
     "output_type": "stream",
     "text": [
      "Error Euler (norma infinito): 0.113405844044\n"
     ]
    }
   ],
   "source": [
    "# Mátodo 1\n",
    "N = len(soporte)-1\n",
    "errores_euler = [ abs(sol_euler[i] - y_exacta(soporte[i]))  for i in range(N+1)]\n",
    "print(\"Error Euler (norma infinito):\", max(errores_euler))"
   ]
  },
  {
   "cell_type": "code",
   "execution_count": 8,
   "id": "0ccafb15",
   "metadata": {},
   "outputs": [
    {
     "name": "stdout",
     "output_type": "stream",
     "text": [
      "Error Euler (norma infinito): 0.113405844044\n"
     ]
    }
   ],
   "source": [
    "# Método 2 (mejora del anterior):\n",
    "errores_euler = abs(array(sol_euler) - array(y_exacta(soporte)))\n",
    "errores_euler\n",
    "print(\"Error Euler (norma infinito):\", max(errores_euler))"
   ]
  },
  {
   "cell_type": "markdown",
   "id": "0c1cff19",
   "metadata": {},
   "source": [
    "Igual para Runge-Kutta y Euler Cauchy:"
   ]
  },
  {
   "cell_type": "code",
   "execution_count": 9,
   "id": "82b93724",
   "metadata": {},
   "outputs": [
    {
     "name": "stdout",
     "output_type": "stream",
     "text": [
      "Error Euler-Cauchy (norma infinito): 0.0251410679413\n",
      "Error Runge-Kutta (norma infinito): 0.00155579730593\n"
     ]
    }
   ],
   "source": [
    "errores_ec = abs(array(sol_ec) - array(y_exacta(soporte)))\n",
    "print(\"Error Euler-Cauchy (norma infinito):\", max(errores_ec))\n",
    "errores_rk = abs(array(sol_rk) - array(y_exacta(soporte)))\n",
    "print(\"Error Runge-Kutta (norma infinito):\", max(errores_rk))"
   ]
  },
  {
   "cell_type": "code",
   "execution_count": 10,
   "id": "c982fced",
   "metadata": {},
   "outputs": [
    {
     "data": {
      "text/plain": [
       "<matplotlib.text.Text at 0x7f86bcc51208>"
      ]
     },
     "execution_count": 10,
     "metadata": {},
     "output_type": "execute_result"
    },
    {
     "data": {
      "image/png": "[encoded data removed]",
      "text/plain": [
       "<matplotlib.figure.Figure at 0x7f86beda4390>"
      ]
     },
     "metadata": {},
     "output_type": "display_data"
    }
   ],
   "source": [
    "bar([0,1,2],[max(errores_euler),max(errores_ec),max(errores_rk)], \n",
    "    tick_label=['Euler','Euler-Cauchy','Runge-Kutta'])\n",
    "title(\"Comparación de los errores\")"
   ]
  },
  {
   "cell_type": "code",
   "execution_count": 11,
   "id": "27a054dc",
   "metadata": {},
   "outputs": [
    {
     "name": "stdout",
     "output_type": "stream",
     "text": [
      "Help on function bar in module matplotlib.pyplot:\n",
      "\n",
      "bar(left, height, width=0.8, bottom=None, hold=None, data=None, **kwargs)\n",
      "    Make a bar plot.\n",
      "    \n",
      "    Make a bar plot with rectangles bounded by:\n",
      "    \n",
      "      `left`, `left` + `width`, `bottom`, `bottom` + `height`\n",
      "            (left, right, bottom and top edges)\n",
      "    \n",
      "    Parameters\n",
      "    ----------\n",
      "    left : sequence of scalars\n",
      "        the x coordinates of the left sides of the bars\n",
      "    \n",
      "    height : sequence of scalars\n",
      "        the heights of the bars\n",
      "    \n",
      "    width : scalar or array-like, optional\n",
      "        the width(s) of the bars\n",
      "        default: 0.8\n",
      "    \n",
      "    bottom : scalar or array-like, optional\n",
      "        the y coordinate(s) of the bars\n",
      "        default: None\n",
      "    \n",
      "    color : scalar or array-like, optional\n",
      "        the colors of the bar faces\n",
      "    \n",
      "    edgecolor : scalar or array-like, optional\n",
      "        the colors of the bar edges\n",
      "    \n",
      "    linewidth : scalar or array-like, optional\n",
      "        width of bar edge(s). If None, use default\n",
      "        linewidth; If 0, don't draw edges.\n",
      "        default: None\n",
      "    \n",
      "    tick_label : string or array-like, optional\n",
      "        the tick labels of the bars\n",
      "        default: None\n",
      "    \n",
      "    xerr : scalar or array-like, optional\n",
      "        if not None, will be used to generate errorbar(s) on the bar chart\n",
      "        default: None\n",
      "    \n",
      "    yerr : scalar or array-like, optional\n",
      "        if not None, will be used to generate errorbar(s) on the bar chart\n",
      "        default: None\n",
      "    \n",
      "    ecolor : scalar or array-like, optional\n",
      "        specifies the color of errorbar(s)\n",
      "        default: None\n",
      "    \n",
      "    capsize : scalar, optional\n",
      "       determines the length in points of the error bar caps\n",
      "       default: None, which will take the value from the\n",
      "       ``errorbar.capsize`` :data:`rcParam<matplotlib.rcParams>`.\n",
      "    \n",
      "    error_kw : dict, optional\n",
      "        dictionary of kwargs to be passed to errorbar method. *ecolor* and\n",
      "        *capsize* may be specified here rather than as independent kwargs.\n",
      "    \n",
      "    align : {'edge',  'center'}, optional\n",
      "        If 'edge', aligns bars by their left edges (for vertical bars) and\n",
      "        by their bottom edges (for horizontal bars). If 'center', interpret\n",
      "        the `left` argument as the coordinates of the centers of the bars.\n",
      "        To align on the align bars on the right edge pass a negative\n",
      "        `width`.\n",
      "    \n",
      "    orientation : {'vertical',  'horizontal'}, optional\n",
      "        The orientation of the bars.\n",
      "    \n",
      "    log : boolean, optional\n",
      "        If true, sets the axis to be log scale.\n",
      "        default: False\n",
      "    \n",
      "    Returns\n",
      "    -------\n",
      "    bars : matplotlib.container.BarContainer\n",
      "        Container with all of the bars + errorbars\n",
      "    \n",
      "    Notes\n",
      "    -----\n",
      "    The optional arguments `color`, `edgecolor`, `linewidth`,\n",
      "    `xerr`, and `yerr` can be either scalars or sequences of\n",
      "    length equal to the number of bars.  This enables you to use\n",
      "    bar as the basis for stacked bar charts, or candlestick plots.\n",
      "    Detail: `xerr` and `yerr` are passed directly to\n",
      "    :meth:`errorbar`, so they can also have shape 2xN for\n",
      "    independent specification of lower and upper errors.\n",
      "    \n",
      "    Other optional kwargs:\n",
      "    \n",
      "      agg_filter: unknown\n",
      "      alpha: float or None \n",
      "      animated: [True | False] \n",
      "      antialiased or aa: [True | False]  or None for default \n",
      "      axes: an :class:`~matplotlib.axes.Axes` instance \n",
      "      capstyle: ['butt' | 'round' | 'projecting'] \n",
      "      clip_box: a :class:`matplotlib.transforms.Bbox` instance \n",
      "      clip_on: [True | False] \n",
      "      clip_path: [ (:class:`~matplotlib.path.Path`, :class:`~matplotlib.transforms.Transform`) | :class:`~matplotlib.patches.Patch` | None ] \n",
      "      color: matplotlib color spec\n",
      "      contains: a callable function \n",
      "      edgecolor or ec: mpl color spec, or None for default, or 'none' for no color \n",
      "      facecolor or fc: mpl color spec, or None for default, or 'none' for no color \n",
      "      figure: a :class:`matplotlib.figure.Figure` instance \n",
      "      fill: [True | False] \n",
      "      gid: an id string \n",
      "      hatch: ['/' | '\\\\' | '|' | '-' | '+' | 'x' | 'o' | 'O' | '.' | '*'] \n",
      "      joinstyle: ['miter' | 'round' | 'bevel'] \n",
      "      label: string or anything printable with '%s' conversion. \n",
      "      linestyle or ls: ['solid' | 'dashed', 'dashdot', 'dotted' | (offset, on-off-dash-seq) | ``'-'`` | ``'--'`` | ``'-.'`` | ``':'`` | ``'None'`` | ``' '`` | ``''``]\n",
      "      linewidth or lw: float or None for default \n",
      "      path_effects: unknown\n",
      "      picker: [None|float|boolean|callable] \n",
      "      rasterized: [True | False | None] \n",
      "      sketch_params: unknown\n",
      "      snap: unknown\n",
      "      transform: :class:`~matplotlib.transforms.Transform` instance \n",
      "      url: a url string \n",
      "      visible: [True | False] \n",
      "      zorder: any number \n",
      "    \n",
      "    See also\n",
      "    --------\n",
      "    barh: Plot a horizontal bar plot.\n",
      "    \n",
      "    Examples\n",
      "    --------\n",
      "    \n",
      "    **Example:** A stacked bar chart.\n",
      "    \n",
      "    .. plot:: mpl_examples/pylab_examples/bar_stacked.py\n",
      "    \n",
      "    Notes\n",
      "    -----\n",
      "    \n",
      "    In addition to the above described arguments, this function can take a\n",
      "    **data** keyword argument. If such a **data** argument is given, the\n",
      "    following arguments are replaced by **data[<arg>]**:\n",
      "    \n",
      "    * All arguments with the following names: 'tick_label', 'color', 'yerr', 'edgecolor', 'height', 'ecolor', 'width', 'linewidth', 'bottom', 'left', 'xerr'.\n",
      "    \n",
      "    \n",
      "    \n",
      "    \n",
      "    Additional kwargs: hold = [True|False] overrides default hold state\n",
      "\n"
     ]
    }
   ],
   "source": [
    "help(bar)"
   ]
  },
  {
   "cell_type": "code",
   "execution_count": 11,
   "id": "6c054ae9",
   "metadata": {},
   "outputs": [],
   "source": []
  }
 ],
 "metadata": {
  "kernelspec": {
   "display_name": "Python 3 (ipykernel)",
   "language": "python",
   "name": "python3"
  },
  "language_info": {
   "codemirror_mode": {
    "name": "ipython",
    "version": 3
   },
   "file_extension": ".py",
   "mimetype": "text/x-python",
   "name": "python",
   "nbconvert_exporter": "python",
   "pygments_lexer": "ipython3",
   "version": "3.10.6"
  }
 },
 "nbformat": 4,
 "nbformat_minor": 1
}
